{
 "cells": [
  {
   "cell_type": "markdown",
   "metadata": {
    "slideshow": {
     "slide_type": "slide"
    }
   },
   "source": [
    "# Data collection and model annotation\n",
    "<br>\n",
    "<div align='center'><img src=\"https://raw.githubusercontent.com/vporubsky/tellurium-libroadrunner-tutorial/master/data_aggregation_logo.png\" width = \"50%\" style=\"padding: 0px\"></div>\n",
    "<br>\n",
    "<div align='center' style='font-size:100%'>\n",
    "Veronica L. Porubsky, BS\n",
    "<div align='center' style='font-size:100%'>Sauro Lab PhD Student, Department of Bioengineering<br>\n",
    "Head of Outreach, <a href=\"https://reproduciblebiomodels.org/dissemination-and-training/seminar/\">Center for Reproducible Biomedical Modeling</a><br>\n",
    "University of Washington, Seattle, WA USA\n",
    "</div>\n",
    "<hr>"
   ]
  },
  {
   "cell_type": "markdown",
   "metadata": {},
   "source": [
    "## TOC\n",
    "* [What is data collection?](#data-collection)\n",
    "* [What databases are useful for biochemical network modeling?](#databases)\n",
    "* [What is metadata and how much should we collect?](#metadata)\n",
    "* [Packages and Constants](#packages-constants)\n",
    "* [Importing data programmatically with KEGG and bioservices](#import-with-KEGG)\n",
    "* [Collecting data programmatically with ChEBI](#collection-with-chebi)\n",
    "* [Importing a kinetic constant](#kinetic-constant-import)\n",
    "* [Storing collected data and metadata in a dataframe](#storing-collected-data)\n",
    "* [What is model annotation and why do we do it?](#model-annotation)\n",
    "* [Adding annotations to the repressilator model with Antimony](#repressilator-annotations-antimony)\n",
    "* [Adding annotations to the repressilator model with sbmlutils](#repressilator-annotations-sbmlutils)\n",
    "* [Exercises](#exercises)"
   ]
  },
  {
   "cell_type": "markdown",
   "metadata": {
    "slideshow": {
     "slide_type": "slide"
    }
   },
   "source": [
    "# What is data collection? <a class=\"anchor\" id=\"data-collection\"></a>\n",
    "\n",
    "The collection of data from multiple experiments, scientific papers, and online data sources is necessary\n",
    "to fully-inform your model.\n",
    "\n",
    "<br>\n",
    "<br>\n",
    "Typically, you will need to curate your collected data to ensure the quality of measurements is acceptable to include\n",
    "in your model. This my involve excluding data from dissimilar species or environmental conditions than\n",
    "your model system.\n"
   ]
  },
  {
   "cell_type": "markdown",
   "metadata": {
    "slideshow": {
     "slide_type": "slide"
    }
   },
   "source": [
    "# What databases are useful for biochemical network modeling? <a class=\"anchor\" id=\"databases\"></a>\n",
    "\n",
    "\n",
    "<ul>\n",
    "  <li>SABIO-RK: biochemical reaction kinetics database</li>\n",
    "     <ul class=\"square\">\n",
    "      <li>Describes chemical reactions and kinetics</li>\n",
    "      <li>Contains information about participants and modifiers in reactions</li>\n",
    "      <li>Metabolic and signaling network reactions</li>\n",
    "     </ul>\n",
    "  <li>BRENDA: the comprehensive enzyme information system</li>\n",
    "     <ul class=\"square\">\n",
    "      <li>Enzyme information classified by the biochemical reaction it catalyzes</li>\n",
    "      <li>Kinetic information about substrates and products is available</li> \n",
    "     </ul>\n",
    "  <li>ChEBI: dictionary of \"small\" chemical compounds</li>\n",
    "  <li>KEGG: collection of pathway/genome/diesease/drug databases</li>\n",
    "  <li>BioCYC: collection of pathway/genome databases</li>\n",
    "       <ul class=\"square\">\n",
    "      <li>Search for genes, proteins, metabolites or pathways, and the occurence of your term will be located in multiple databases</li> \n",
    "     </ul>\n",
    "  <li>BioModels Database: repository of mathematical models of biological systems</li>\n",
    "      <ul class=\"square\">\n",
    "      <li> *Will be covered in more detail later in the course</li> \n",
    "     </ul>\n",
    "</ul>\n",
    "\n",
    "<a href=\"https://www.sciencedirect.com/science/article/abs/pii/S0958166917301428?via%3Dihub\">Appendix A of Goldberg et al. (2018)</a> provides a useful and more comprehensive list of data sources containing intracellular biochemical data. \n"
   ]
  },
  {
   "cell_type": "markdown",
   "metadata": {
    "slideshow": {
     "slide_type": "slide"
    }
   },
   "source": [
    "# What is metadata and how much should we collect? <a class=\"anchor\" id=\"metadata\"></a>\n",
    "\n",
    "<ul>\n",
    "  <li>Metadata: data that describes biochemical data</li>\n",
    "  <li>Collect information about:</li>\n",
    "     <ul class=\"square\">\n",
    "      <li>Units</li>\n",
    "      <li>Estimates of measurement accuracy</li>\n",
    "      <li>Annotations</li>\n",
    "      <li>Ontology terms defining the annotations</li>\n",
    "      <li>etc.</li>\n",
    "     </ul>\n",
    "  <li>Collect provenance data:</li>\n",
    "     <ul class=\"square\">\n",
    "      <li>Lab which generated the data</li>\n",
    "      <li>Experimental conditions</li>\n",
    "      <li>Protocol used to generate the data</li>\n",
    "      <li>Paper which reported the measurement</li>\n",
    "      <li>etc.</li>\n",
    "</ul>"
   ]
  },
  {
   "cell_type": "markdown",
   "metadata": {
    "pycharm": {
     "name": "#%% md\n"
    }
   },
   "source": [
    "# Packages and constants <a class=\"anchor\" id=\"packages-constants\"></a>"
   ]
  },
  {
   "cell_type": "code",
   "execution_count": 35,
   "metadata": {
    "pycharm": {
     "name": "#%%\n"
    }
   },
   "outputs": [
    {
     "name": "stdout",
     "output_type": "stream",
     "text": [
      "\u001B[33mWARNING: You are using pip version 21.0.1; however, version 21.1.3 is available.\n",
      "You should consider upgrading via the '/Library/Frameworks/Python.framework/Versions/3.6/bin/python3.6 -m pip install --upgrade pip' command.\u001B[0m\n",
      "\u001B[33mWARNING: You are using pip version 21.0.1; however, version 21.1.3 is available.\n",
      "You should consider upgrading via the '/Library/Frameworks/Python.framework/Versions/3.6/bin/python3.6 -m pip install --upgrade pip' command.\u001B[0m\n",
      "\u001B[33mWARNING: You are using pip version 21.0.1; however, version 21.1.3 is available.\n",
      "You should consider upgrading via the '/Library/Frameworks/Python.framework/Versions/3.6/bin/python3.6 -m pip install --upgrade pip' command.\u001B[0m\n",
      "\u001B[31mERROR: Could not find a version that satisfies the requirement sbmluitils\u001B[0m\n",
      "\u001B[31mERROR: No matching distribution found for sbmluitils\u001B[0m\n",
      "\u001B[33mWARNING: You are using pip version 21.0.1; however, version 21.1.3 is available.\n",
      "You should consider upgrading via the '/Library/Frameworks/Python.framework/Versions/3.6/bin/python3.6 -m pip install --upgrade pip' command.\u001B[0m\n",
      "\u001B[33mWARNING: You are using pip version 21.0.1; however, version 21.1.3 is available.\n",
      "You should consider upgrading via the '/Library/Frameworks/Python.framework/Versions/3.6/bin/python3.6 -m pip install --upgrade pip' command.\u001B[0m\n",
      "\u001B[31m    ERROR: Command errored out with exit status 1:\n",
      "     command: /Library/Frameworks/Python.framework/Versions/3.6/bin/python3.6 -c 'import sys, setuptools, tokenize; sys.argv[0] = '\"'\"'/private/var/folders/kl/gbh36sd919gggppy_1_wl8p80000gn/T/pip-install-8u0ipkqo/ssl_11bbf36ba45c49b1a3f0d0320367b1fd/setup.py'\"'\"'; __file__='\"'\"'/private/var/folders/kl/gbh36sd919gggppy_1_wl8p80000gn/T/pip-install-8u0ipkqo/ssl_11bbf36ba45c49b1a3f0d0320367b1fd/setup.py'\"'\"';f=getattr(tokenize, '\"'\"'open'\"'\"', open)(__file__);code=f.read().replace('\"'\"'\\r\\n'\"'\"', '\"'\"'\\n'\"'\"');f.close();exec(compile(code, __file__, '\"'\"'exec'\"'\"'))' egg_info --egg-base /private/var/folders/kl/gbh36sd919gggppy_1_wl8p80000gn/T/pip-pip-egg-info-38s8gw5n\n",
      "         cwd: /private/var/folders/kl/gbh36sd919gggppy_1_wl8p80000gn/T/pip-install-8u0ipkqo/ssl_11bbf36ba45c49b1a3f0d0320367b1fd/\n",
      "    Complete output (6 lines):\n",
      "    Traceback (most recent call last):\n",
      "      File \"<string>\", line 1, in <module>\n",
      "      File \"/private/var/folders/kl/gbh36sd919gggppy_1_wl8p80000gn/T/pip-install-8u0ipkqo/ssl_11bbf36ba45c49b1a3f0d0320367b1fd/setup.py\", line 33\n",
      "        print 'looking for', f\n",
      "                          ^\n",
      "    SyntaxError: Missing parentheses in call to 'print'. Did you mean print('looking for', f)?\n",
      "    ----------------------------------------\u001B[0m\n",
      "\u001B[33mWARNING: Discarding https://files.pythonhosted.org/packages/83/21/f469c9923235f8c36d5fd5334ed11e2681abad7e0032c5aba964dcaf9bbb/ssl-1.16.tar.gz#sha256=ac21156fee6aee9eb8d765bbb16f5f49492d81ff4b22f7b8fc001d2251120930 (from https://pypi.org/simple/ssl/). Command errored out with exit status 1: python setup.py egg_info Check the logs for full command output.\u001B[0m\n",
      "\u001B[31m    ERROR: Command errored out with exit status 1:\n",
      "     command: /Library/Frameworks/Python.framework/Versions/3.6/bin/python3.6 -c 'import sys, setuptools, tokenize; sys.argv[0] = '\"'\"'/private/var/folders/kl/gbh36sd919gggppy_1_wl8p80000gn/T/pip-install-8u0ipkqo/ssl_b818f2429dd84d4bbd98256941201593/setup.py'\"'\"'; __file__='\"'\"'/private/var/folders/kl/gbh36sd919gggppy_1_wl8p80000gn/T/pip-install-8u0ipkqo/ssl_b818f2429dd84d4bbd98256941201593/setup.py'\"'\"';f=getattr(tokenize, '\"'\"'open'\"'\"', open)(__file__);code=f.read().replace('\"'\"'\\r\\n'\"'\"', '\"'\"'\\n'\"'\"');f.close();exec(compile(code, __file__, '\"'\"'exec'\"'\"'))' egg_info --egg-base /private/var/folders/kl/gbh36sd919gggppy_1_wl8p80000gn/T/pip-pip-egg-info-l5wqi77h\n",
      "         cwd: /private/var/folders/kl/gbh36sd919gggppy_1_wl8p80000gn/T/pip-install-8u0ipkqo/ssl_b818f2429dd84d4bbd98256941201593/\n",
      "    Complete output (6 lines):\n",
      "    Traceback (most recent call last):\n",
      "      File \"<string>\", line 1, in <module>\n",
      "      File \"/private/var/folders/kl/gbh36sd919gggppy_1_wl8p80000gn/T/pip-install-8u0ipkqo/ssl_b818f2429dd84d4bbd98256941201593/setup.py\", line 74\n",
      "        print 'looking for', f\n",
      "                          ^\n",
      "    SyntaxError: Missing parentheses in call to 'print'. Did you mean print('looking for', f)?\n",
      "    ----------------------------------------\u001B[0m\n",
      "\u001B[33mWARNING: Discarding https://files.pythonhosted.org/packages/3a/c2/846a19d1572ec6cb8ac438d58a898de8926d32e13f0355cdf4ab00864b5f/ssl-1.15.tar.gz#sha256=1266302ce62c4b60c7ca0e1d3d104ba11d2749e5881d8ac4f006cf9a0446d589 (from https://pypi.org/simple/ssl/). Command errored out with exit status 1: python setup.py egg_info Check the logs for full command output.\u001B[0m\n",
      "\u001B[31mERROR: Could not find a version that satisfies the requirement ssl\u001B[0m\n",
      "\u001B[31mERROR: No matching distribution found for ssl\u001B[0m\n",
      "\u001B[33mWARNING: You are using pip version 21.0.1; however, version 21.1.3 is available.\n",
      "You should consider upgrading via the '/Library/Frameworks/Python.framework/Versions/3.6/bin/python3.6 -m pip install --upgrade pip' command.\u001B[0m\n",
      "Collecting openpyxl\n",
      "  Using cached openpyxl-3.0.7-py2.py3-none-any.whl (243 kB)\n",
      "Collecting et-xmlfile\n",
      "  Downloading et_xmlfile-1.1.0-py3-none-any.whl (4.7 kB)\n",
      "Installing collected packages: et-xmlfile, openpyxl\n",
      "Successfully installed et-xmlfile-1.1.0 openpyxl-3.0.7\n",
      "\u001B[33mWARNING: You are using pip version 21.0.1; however, version 21.1.3 is available.\n",
      "You should consider upgrading via the '/Library/Frameworks/Python.framework/Versions/3.6/bin/python3.6 -m pip install --upgrade pip' command.\u001B[0m\n"
     ]
    }
   ],
   "source": [
    "!pip install tellurium -q\n",
    "!pip install bioservices -q\n",
    "!pip install pandas -q\n",
    "!pip install sbmluitils -q\n",
    "!pip install pathlib -q\n",
    "!pip install ssl -q\n",
    "!pip install openpyxl -q\n",
    "\n",
    "import tellurium as te # Python-based modeling environment for kinetic models\n",
    "from bioservices import * # Use for querying databases\n",
    "from sbmlutils.metadata.annotator import ModelAnnotator, annotate_sbml # Use to annotate SBML\n",
    "from pathlib import Path # Used for sbmlutils annotation functionality\n",
    "import ssl # Use for managing data import from GitHub\n",
    "ssl._create_default_https_context = ssl._create_unverified_context # Allows you to access raw data on GitHub"
   ]
  },
  {
   "cell_type": "markdown",
   "metadata": {
    "pycharm": {
     "name": "#%% md\n"
    }
   },
   "source": [
    "# Importing data programmatically with KEGG and bioservices <a class=\"anchor\" id=\"import-with-KEGG\"></a>"
   ]
  },
  {
   "cell_type": "code",
   "execution_count": 17,
   "metadata": {
    "pycharm": {
     "name": "#%%\n"
    }
   },
   "outputs": [
    {
     "name": "stdout",
     "output_type": "stream",
     "text": [
      "['tetR']\n",
      "TetR/AcrR family transcriptional regulator, tetracycline repressor protein\n"
     ]
    }
   ],
   "source": [
    "# Select database\n",
    "database = KEGG()\n",
    "\n",
    "# Retrieve a KEGG entry\n",
    "tetR_query = database.get(\"K18476\")\n",
    "\n",
    "# Build a dictionary to parse query\n",
    "tetR_dict = database.parse(tetR_query)\n",
    "\n",
    "# Show information about the query\n",
    "print(tetR_dict['NAME'])\n",
    "print(tetR_dict['DEFINITION'])\n"
   ]
  },
  {
   "cell_type": "markdown",
   "metadata": {},
   "source": [
    "# Collecting metadata programmatically with ChEBI <a class=\"anchor\" id=\"collection-with-chebi\"></a>"
   ]
  },
  {
   "cell_type": "code",
   "execution_count": 18,
   "metadata": {
    "pycharm": {
     "name": "#%%\n"
    }
   },
   "outputs": [
    {
     "name": "stdout",
     "output_type": "stream",
     "text": [
      "A ketohexose bisphosphate that is D-fructose substituted by phosphate groups at positions 1 and 6. It is an intermediate in the glycolysis metabolic pathway.\n"
     ]
    }
   ],
   "source": [
    "# Store annotation information\n",
    "# Select database\n",
    "database = ChEBI()\n",
    "\n",
    "# Retrieve a ChEBI entry for D-fructose 1,6-bisphosphate\n",
    "query = database.getCompleteEntity(\"CHEBI:78682\")\n",
    "\n",
    "print(query.definition)\n"
   ]
  },
  {
   "cell_type": "markdown",
   "metadata": {
    "pycharm": {
     "name": "#%% md\n"
    }
   },
   "source": [
    "# Importing a kinetic constant <a class=\"anchor\" id=\"kinetic-constant-import\"></a>\n"
   ]
  },
  {
   "cell_type": "code",
   "execution_count": null,
   "metadata": {
    "pycharm": {
     "name": "#%%\n"
    }
   },
   "outputs": [],
   "source": []
  },
  {
   "cell_type": "markdown",
   "metadata": {
    "pycharm": {
     "name": "#%% md\n"
    }
   },
   "source": [
    "# Storing collected data and metadata in a Pandas dataframe <a class=\"anchor\" id=\"storing-aggregated-data\"></a>\n",
    "\n",
    "A Pandas dataframe is a tabular data structure with labeled rows and columns. They are very useful for\n",
    "pulling out specific quantities from a dataset."
   ]
  },
  {
   "cell_type": "code",
   "execution_count": null,
   "metadata": {
    "pycharm": {
     "name": "#%%\n"
    }
   },
   "outputs": [],
   "source": []
  },
  {
   "cell_type": "markdown",
   "source": [
    "# What is model annotation and why do we do it?  <a class=\"anchor\" id=\"model-annotation\"></a>\n",
    "\n"
   ],
   "metadata": {
    "collapsed": false,
    "pycharm": {
     "name": "#%% md\n"
    }
   }
  },
  {
   "cell_type": "markdown",
   "metadata": {
    "pycharm": {
     "name": "#%% md\n"
    }
   },
   "source": [
    "# Adding annotations to the repressilator model with Antimony <a class=\"anchor\" id=\"repressilator-annotations-antimony\"></a>"
   ]
  },
  {
   "cell_type": "code",
   "execution_count": 22,
   "metadata": {
    "pycharm": {
     "name": "#%%\n"
    }
   },
   "outputs": [],
   "source": [
    "repressilator_str = \"\"\"\n",
    "# Species:\n",
    "species M1, P3, P1, M2, P2, M3;\n",
    "\n",
    "# Reactions:\n",
    "J0:  -> M1; a_m1*(Kr_P3^n1/(Kr_P3^n1 + P3^n1)) + leak1;\n",
    "J1: M1 -> ; d_m1*M1;\n",
    "J2:  -> P1; a_p1*M1;\n",
    "J3: P1 -> ; d_p1*P1;\n",
    "J4:  -> M2; a_m2*(Kr_P1^n2/(Kr_P1^n2 + P1^n2)) + leak2;\n",
    "J5: M2 -> ; d_m2*M2;\n",
    "J6:  -> P2; a_p2*M2;\n",
    "J7: P2 -> ; d_p2*P2;\n",
    "J8:  -> M3; a_m3*(Kr_P2^n3/(Kr_P2^n3 + P2^n3)) + leak3;\n",
    "J9: M3 -> ; d_m3*M3;\n",
    "J10:  -> P3; a_p3*M3;\n",
    "J11: P3 -> ; d_p3*P3;\n",
    "\n",
    "# Species initializations:\n",
    "M1 = 0.604016261711246;\n",
    "P3 = 1.10433330559171;\n",
    "P1 = 7.94746428021418;\n",
    "M2 = 2.16464969760648;\n",
    "P2 = 3.55413750091507;\n",
    "M3 = 2.20471854765531;\n",
    "\n",
    "# Variable initializations:\n",
    "a_m1 = 1.13504504342841;\n",
    "Kr_P3 = 0.537411795656332;\n",
    "n1 = 7.75907326833983;\n",
    "leak1 = 2.59839004225795e-07;\n",
    "d_m1 = 0.360168301619141;\n",
    "a_p1 = 5.91755684808254;\n",
    "d_p1 = 1.11075218613419;\n",
    "a_m2 = 2.57306185467814;\n",
    "Kr_P1 = 0.190085253528206;\n",
    "n2 = 6.89140262856765;\n",
    "leak2 = 1.51282707494481e-06;\n",
    "d_m2 = 1.05773721506759;\n",
    "a_p2 = 8.35628834784826;\n",
    "d_p2 = 0.520562081730298;\n",
    "a_m3 = 0.417889543691157;\n",
    "Kr_P2 = 2.71031378955001;\n",
    "n3 = 0.44365980532785;\n",
    "leak3 = 3.63586125130783e-11;\n",
    "d_m3 = 0.805873530762994;\n",
    "a_p3 = 4.61276807677109;\n",
    "d_p3 = 1.54954108126666;\n",
    "\n",
    "\n",
    "\n",
    "// CV terms:\n",
    "A.sboTerm = 236 or A.sboTerm = SBO:00000236\n",
    "A identity \"cvterm\" or A biological_entity_is \"cvterm\"\n",
    "A hasPart \"cvterm\" or A part \"cvterm\"\n",
    "A isPartOf \"cvterm\" or A parthood \"cvterm\"\n",
    "A isVersionOf \"cvterm\" or A hypernym \"cvterm\"\n",
    "A hasVersion \"cvterm\" or A version \"cvterm\"\n",
    "A isHomologTo \"cvterm\" or A homolog \"cvterm\"\n",
    "A isDescribedBy \"cvterm\" or A description \"cvterm\"\n",
    "A isEncodedBy \"cvterm\" or A encoder \"cvterm\"\n",
    "A encodes \"cvterm\" or A encodement \"cvterm\"\n",
    "A occursIn \"cvterm\" or A container \"cvterm\"\n",
    "A hasProperty \"cvterm\" or A property \"cvterm\"\n",
    "A isPropertyOf \"cvterm\" or A propertyBearer \"cvterm\"\n",
    "A hasTaxon \"cvterm\" or A taxon \"cvterm\"\n",
    "\"\"\"\n"
   ]
  },
  {
   "cell_type": "markdown",
   "source": [
    "# Adding annotations to the repressilator model with sbmlutils <a class=\"anchor\" id=\"repressilator-annotations-sbmlutils\"></a>\n",
    "\n",
    "An alternative option for annotation in Python is to use sbmlutils, which provides rapid annotation"
   ],
   "metadata": {
    "collapsed": false,
    "pycharm": {
     "name": "#%% md\n"
    }
   }
  },
  {
   "cell_type": "code",
   "execution_count": 37,
   "metadata": {
    "pycharm": {
     "name": "#%%\n"
    }
   },
   "outputs": [
    {
     "name": "stdout",
     "output_type": "stream",
     "text": [
      "|    | pattern   | sbml_type   | annotation_type   | qualifier   | resource        | name              |\n",
      "|---:|:----------|:------------|:------------------|:------------|:----------------|:------------------|\n",
      "|  0 | d_m1      | parameter   | rdf               | BQB_IS      | sbo/SBO:0000356 | Decay constant    |\n",
      "|  1 | d_m2      | parameter   | rdf               | BQB_IS      | sbo/SBO:0000356 | Decay constant    |\n",
      "|  2 | d_m3      | parameter   | rdf               | BQB_IS      | sbo/SBO:0000356 | Decay constant    |\n",
      "|  3 | d_p1      | parameter   | rdf               | BQB_IS      | sbo/SBO:0000356 | Decay constant    |\n",
      "|  4 | d_p2      | parameter   | rdf               | BQB_IS      | sbo/SBO:0000356 | Decay constant    |\n",
      "|  5 | d_p3      | parameter   | rdf               | BQB_IS      | sbo/SBO:0000356 | Decay constant    |\n",
      "|  6 | n1        | parameter   | rdf               | BQB_IS      | sbo/SBO:0000190 | Hill coefficient  |\n",
      "|  7 | n2        | parameter   | rdf               | BQB_IS      | sbo/SBO:0000190 | Hill coefficient  |\n",
      "|  8 | n3        | parameter   | rdf               | BQB_IS      | sbo/SBO:0000190 | Hill coefficient  |\n",
      "|  9 | a_m1      | parameter   | rdf               | BQB_IS      | sbo/SBO:0000186 | Maximal velocity  |\n",
      "| 10 | a_m2      | parameter   | rdf               | BQB_IS      | sbo/SBO:0000186 | Maximal velocity  |\n",
      "| 11 | a_m3      | parameter   | rdf               | BQB_IS      | sbo/SBO:0000186 | Maximal velocity  |\n",
      "| 12 | M1        | parameter   | rdf               | BQB_IS      | sbo/SBO:0000250 | Ribonucleic acid  |\n",
      "| 13 | M2        | parameter   | rdf               | BQB_IS      | sbo/SBO:0000250 | Ribonucleic acid  |\n",
      "| 14 | M3        | parameter   | rdf               | BQB_IS      | sbo/SBO:0000250 | Ribonucleic acid  |\n",
      "| 15 | P1        | parameter   | rdf               | BQB_IS      | sbo/SBO:0000252 | Polypeptide chain |\n",
      "| 16 | P2        | parameter   | rdf               | BQB_IS      | sbo/SBO:0000252 | Polypeptide chain |\n",
      "| 17 | P3        | parameter   | rdf               | BQB_IS      | sbo/SBO:0000252 | Polypeptide chain |\n"
     ]
    }
   ],
   "source": [
    "# Load the repressilator model\n",
    "repressilator = te.loada(repressilator_str)\n",
    "\n",
    "# Save the repressilator model in the SBML format to be used for annotation with sbmlutils\n",
    "te.saveToFile('repressilator_sbml.xml', repressilator.getCurrentSBML())\n",
    "\n",
    "# Simulate the repressilator model\n",
    "repressilator.simulate(0, 100, 500)\n",
    "repressilator.plot(figsize = (10, 8), linewidth = 3)"
   ]
  },
  {
   "cell_type": "code",
   "execution_count": null,
   "outputs": [],
   "source": [
    "# Read and print the annotation file, stored as an .csv file on GitHub\n",
    "annotations_url = 'https://raw.githubusercontent.com/sys-bio/network-modeling-summer-school-2021/main/annotations/repressilator_annotations.csv'\n",
    "\n",
    "repressilator_annotations = ModelAnnotator.read_annotations_df(annotations_url,\n",
    "                                                               file_format=\"csv\")\n",
    "print(repressilator_annotations.to_markdown())\n",
    "repressilator_annotations.to_csv('repressilator_annotations.csv')  \n",
    "\n",
    "# Annotated existing repressilator SBML\n",
    "repressilator_doc = annotate_sbml(\n",
    "    source=Path('repressilator_sbml.xml'),\n",
    "    annotations_path=Path('repressilator_annotations.csv'),\n",
    "    filepath=Path('repressilator_annotated.xml')\n",
    ")\n",
    "\n",
    "# Save annotated SBML string to file in working directory\n",
    "REPRESSILATOR_ANNOTATED_SBML = repressilator_doc.getSBMLDocument().toSBML()\n",
    "te.saveToFile('repressilator_annotated.xml',\n",
    "              REPRESSILATOR_ANNOTATED_SBML)\n"
   ],
   "metadata": {
    "collapsed": false,
    "pycharm": {
     "name": "#%%\n"
    }
   }
  },
  {
   "cell_type": "markdown",
   "metadata": {},
   "source": [
    "# Adding annotations to the repressilator model <a class=\"anchor\" id=\"repressilator-annotations\"></a>\n",
    "e"
   ]
  },
  {
   "cell_type": "markdown",
   "metadata": {
    "slideshow": {
     "slide_type": "slide"
    }
   },
   "source": [
    "# Exercises <a class=\"anchor\" id=\"exercises\"></a>"
   ]
  },
  {
   "cell_type": "markdown",
   "metadata": {
    "slideshow": {
     "slide_type": "slide"
    }
   },
   "source": [
    "## Exercise 1:\n",
    "\n",
    "Visit SABIO-RK and find a reaction involving tau-protein. What tissue and organism is the provided reaction relevant to,\n",
    "according to the results?\n",
    "\n",
    "\n",
    "\n",
    "What other metadata are available for the reaction?"
   ]
  },
  {
   "cell_type": "markdown",
   "metadata": {
    "pycharm": {
     "name": "#%% md\n"
    }
   },
   "source": [
    "## Exercise 1 Solution:\n",
    "\n",
    "Tissue: brain, organisms: Homo sapiens and Rattus norvegicus\n"
   ]
  },
  {
   "cell_type": "markdown",
   "metadata": {
    "slideshow": {
     "slide_type": "slide"
    }
   },
   "source": [
    "## Exercise 2:\n",
    "\n",
    "Visit BRENDA and search for the enzyme lactase. What reaction does this enzyme catalyze? Record the reactants and products in the reaction.\n",
    "\n",
    "What other databases does BRENDA link to which could help you build a pathway model containing the specified reaction?\n"
   ]
  },
  {
   "cell_type": "markdown",
   "metadata": {},
   "source": [
    "## Exercise 2 Solution:\n",
    "\n"
   ]
  },
  {
   "cell_type": "markdown",
   "metadata": {
    "slideshow": {
     "slide_type": "slide"
    }
   },
   "source": [
    "## Exercise 3:\n",
    "\n",
    "Craving a coffee? Look up \"caffeine\" in ChEBI. Getting late in your region of the world? Try \"melatonin\" instead.\n",
    "\n",
    "What is the ChEBI ID for your small molecule? What organisms was the metabolite detected in or isolated from according to the ChEBI data?\n"
   ]
  },
  {
   "cell_type": "markdown",
   "metadata": {},
   "source": [
    "## Exercise 3 Solution:\n",
    "\n"
   ]
  },
  {
   "cell_type": "markdown",
   "metadata": {},
   "source": [
    "## Exercise 4:\n",
    "\n",
    "Explore this <a href=\"https://biocyc.org/overviewsWeb/celOv.shtml?orgid=ECOLI\"> full metabolic map on BioCYC. </a> \n"
   ]
  },
  {
   "cell_type": "markdown",
   "metadata": {
    "slideshow": {
     "slide_type": "slide"
    }
   },
   "source": [
    "## Exercise 5:\n",
    "\n",
    "Programmatically access the ChEBI entry for glucose and print the molecular formula information."
   ]
  },
  {
   "cell_type": "markdown",
   "metadata": {
    "pycharm": {
     "name": "#%% md\n"
    }
   },
   "source": [
    "## Exercise 5 Solution:"
   ]
  },
  {
   "cell_type": "code",
   "execution_count": null,
   "metadata": {
    "pycharm": {
     "name": "#%%\n"
    }
   },
   "outputs": [],
   "source": [
    "# Select database\n",
    "database = ChEBI()\n",
    "\n",
    "# Retrieve a ChEBI entry for D-fructose 1,6-bisphosphate\n",
    "query = database.getCompleteEntity(\"CHEBI:17234\")\n",
    "\n",
    "print(query.Formulae)"
   ]
  },
  {
   "cell_type": "markdown",
   "metadata": {
    "slideshow": {
     "slide_type": "slide"
    }
   },
   "source": [
    "# Acknowledgements\n",
    "<br>\n",
    "<div align='left'><img src=\"https://raw.githubusercontent.com/vporubsky/tellurium-libroadrunner-tutorial/master/acknowledgments.png\" width=\"80%\"></div>"
   ]
  },
  {
   "cell_type": "markdown",
   "metadata": {
    "slideshow": {
     "slide_type": "slide"
    }
   },
   "source": [
    "<br>\n",
    "<html>\n",
    "   <head>\n",
    "      <title>Bibliography</title>\n",
    "   </head>\n",
    "   <body>\n",
    "      <h1>Bibliography</h1>\n",
    "      <ol>\n",
    "         <li>\n",
    "            <p>K. Choi et al., <cite>Tellurium: An extensible python-based modeling environment for systems and synthetic biology</cite>, Biosystems, vol. 171, pp. 74–79, Sep. 2018.</p>\n",
    "         </li>\n",
    "         <li>\n",
    "            <p>E. T. Somogyi et al., <cite>libRoadRunner: a high performance SBML simulation and analysis library.,</cite>, Bioinformatics, vol. 31, no. 20, pp. 3315–21, Oct. 2015.</p>         \n",
    "          <li>\n",
    "            <p>L. P. Smith, F. T. Bergmann, D. Chandran, and H. M. Sauro, <cite>Antimony: a modular model definition language</cite>, Bioinformatics, vol. 25, no. 18, pp. 2452–2454, Sep. 2009.</p>\n",
    "         </li>\n",
    "         <li>\n",
    "            <p>K. Choi, L. P. Smith, J. K. Medley, and H. M. Sauro, <cite>phraSED-ML: a paraphrased, human-readable adaptation of SED-ML</cite>, J. Bioinform. Comput. Biol., vol. 14, no. 06, Dec. 2016.</p>\n",
    "         </li>         \n",
    "         <li>\n",
    "            <p> B.N. Kholodenko, O.V. Demin, G. Moehren, J.B. Hoek, <cite>Quantification of short term signaling by the epidermal growth factor receptor.</cite>, J Biol Chem., vol. 274, no. 42, Oct. 1999.</p>\n",
    "         </li>\n",
    "      </ol>\n",
    "   </body>\n",
    "</html>"
   ]
  }
 ],
 "metadata": {
  "celltoolbar": "Slideshow",
  "kernelspec": {
   "display_name": "Python 3",
   "language": "python",
   "name": "python3"
  },
  "language_info": {
   "codemirror_mode": {
    "name": "ipython",
    "version": 3
   },
   "file_extension": ".py",
   "mimetype": "text/x-python",
   "name": "python",
   "nbconvert_exporter": "python",
   "pygments_lexer": "ipython3",
   "version": "3.6.8"
  },
  "rise": {
   "scroll": true
  }
 },
 "nbformat": 4,
 "nbformat_minor": 2
}