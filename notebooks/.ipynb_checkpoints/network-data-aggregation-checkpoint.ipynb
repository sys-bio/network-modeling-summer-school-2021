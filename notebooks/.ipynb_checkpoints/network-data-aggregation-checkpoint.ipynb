{
 "cells": [
  {
   "cell_type": "markdown",
   "metadata": {
    "slideshow": {
     "slide_type": "slide"
    }
   },
   "source": [
    "<div align='center' style='font-size:100%'><b>Biological networks and data aggregation</b></div>\n",
    "<br>\n",
    "<div align='center'><img src=\"https://raw.githubusercontent.com/vporubsky/tellurium-libroadrunner-tutorial/master/data_aggregation_logo.png\" width = \"50%\" style=\"padding: 0px\"></div>\n",
    "<br>\n",
    "<div align='center' style='font-size:100%'>\n",
    "Veronica L. Porubsky, BS\n",
    "<div align='center' style='font-size:100%'>Sauro Lab PhD Student, Department of Bioengineering<br>\n",
    "Head of Outreach, <a href=\"https://reproduciblebiomodels.org/dissemination-and-training/seminar/\">Center for Reproducible Biomedical Modeling</a><br>\n",
    "University of Washington, Seattle, WA USA\n",
    "</div>\n",
    "<hr>"
   ]
  },
  {
   "cell_type": "markdown",
   "metadata": {},
   "source": [
    "## TOC\n",
    "* [What is biochemical network modeling](#network-modeling)\n",
    "* [Why do we perform network modeling](#perform-network-modeling)\n",
    "* [Types of networks](#network-types)\n",
    "* [Metabolic networks](#metabolic)\n",
    "* [Protein signaling networks](#protein-signaling)\n",
    "* [Gene regulatory networks](#gene-regulation)\n",
    "* [Repressilator model by Elowitz & Liebler (2000):](#repressilator)\n",
    "* [Model of respiratory oscillations in Saccharomyces cerevisae by Jana Wolf et al. (2001):](#wolf)\n",
    "* [Negative feedback and ultrasensitivity effects in Kholodenko (2000):](#kholodenko)\n",
    "* [What is data aggregation?](#data-aggregation)\n",
    "* [What databases are useful for biochemical network modeling?](#databases)\n",
    "* [What is metadata and how much should we collect?](#metadata)\n",
    "* [Packages and Constants](#packages-constants)\n",
    "* [Importing data with KEGG and bioservices](#import-with-KEGG)\n",
    "* [Aggregating data with ChEBI](#aggregation-with-chebi)\n",
    "* [Exercises](#exercises)"
   ]
  },
  {
   "cell_type": "markdown",
   "metadata": {},
   "source": [
    "#  What is biochemical network modeling? <a class=\"anchor\" id=\"network-modeling\"></a>\n",
    "\n",
    "<ul>\n",
    "  <li>Chemical kinetics studies the factors that influence the rate of chemical reactions</li>\n",
    "     <ul class=\"square\">\n",
    "      <li>e.g. <span style=\"color:blue\">concentration</span>, temperature, light, catalysts, etc. </li>\n",
    "     </ul>\n",
    "  <li>Chemical reaction networks are the framework for building all types of dynamical models</li>\n",
    "        <ul class=\"square\">\n",
    "          <li>Genetic circuits</li>\n",
    "          <li>Cell signaling pathways</li>\n",
    "          <li>Metabolic networks</li>\n",
    "        </ul>\n",
    "  <li>Types of biochemical network models:</li>\n",
    "    <ul class=\"square\">\n",
    "      <li>Agent-based</li>\n",
    "      <li>Algebraic</li>\n",
    "      <li>Boolean</li>\n",
    "      <li>Constraint based</li>\n",
    "        <li><span style=\"color:blue\">Mechanistic differential equations models</span></li>\n",
    "      <li>Statistical and machine learning methods</li>\n",
    "      <li>Stochastic</li>\n",
    "    </ul>\n",
    "</ul>"
   ]
  },
  {
   "cell_type": "markdown",
   "metadata": {},
   "source": [
    "#  Why do we perform network modeling? <a class=\"anchor\" id=\"perform-network-modeling\"></a>\n",
    "\n",
    "<ul>\n",
    "  <li>Understand subcellular processes</li>\n",
    "  <li>Drive experimentation</li>\n",
    "  <li>Make predictions about system behavior and the impacts of interferring with the system</li>\n",
    "  <li>Design synthetic networks to control cellular processes</li>\n",
    "  <li>Develop novel treatments for disease by predicting targets for pharmacological therapies, genetic modification, etc</li>\n",
    "  <li>Provide a basis for larger multi-cellular models</li>\n",
    "</ul>\n"
   ]
  },
  {
   "cell_type": "markdown",
   "metadata": {},
   "source": [
    "# Types of networks: <a class=\"anchor\" id=\"network-types\"></a>\n",
    "\n",
    "<br>\n",
    "<div align='center'><img src=\"https://raw.githubusercontent.com/vporubsky/tellurium-libroadrunner-tutorial/master/networks_fig1.PNG\" width = \"75%\" style=\"padding: 0px\"></div>\n",
    "<br>"
   ]
  },
  {
   "cell_type": "markdown",
   "metadata": {},
   "source": [
    "# Metabolic networks: <a class=\"anchor\" id=\"metabolic\"></a>\n",
    "\n",
    "<br>\n",
    "Glycolytic pathway of <em>Lactococcus lactis</em>, produced on JWS Online for Dr. Sauro's textbook, \"Systems Biology: Introduction to Pathway Modeling\".\n",
    "<br>\n",
    "\n",
    "<table><tr>\n",
    "   <td> <img src=\"https://raw.githubusercontent.com/vporubsky/tellurium-libroadrunner-tutorial/master/metabolic_network.PNG\" style=\"width: 800px;\"/> </td>\n",
    "</tr></table>\n",
    "\n"
   ]
  },
  {
   "cell_type": "markdown",
   "metadata": {},
   "source": [
    "# Protein signaling networks: <a class=\"anchor\" id=\"protein-signaling\"></a>\n",
    "\n",
    "<table><tr>\n",
    "   <td> <img src=\"https://raw.githubusercontent.com/vporubsky/tellurium-libroadrunner-tutorial/master/protein_actions.PNG\" style=\"width: 450px;\"/> </td>\n",
    "   <td> <img src=\"https://raw.githubusercontent.com/vporubsky/tellurium-libroadrunner-tutorial/master/protein_signalling_network.PNG\" style=\"width: 300px;\"/> </td>\n",
    "</tr></table>"
   ]
  },
  {
   "cell_type": "markdown",
   "metadata": {},
   "source": [
    "# Gene regulatory networks: <a class=\"anchor\" id=\"gene-regulation\"></a>\n",
    "\n",
    "<table><tr>\n",
    "   <td> <img src=\"https://raw.githubusercontent.com/vporubsky/tellurium-libroadrunner-tutorial/master/gene_actions.PNG\" style=\"width: 400px;\"/> </td>\n",
    "   <td> <img src=\"https://raw.githubusercontent.com/vporubsky/tellurium-libroadrunner-tutorial/master/gene_regulatory.PNG\" style=\"width: 400px;\"/> </td>\n",
    "</tr></table>"
   ]
  },
  {
   "cell_type": "markdown",
   "metadata": {},
   "source": [
    "#  Repressilator model by Elowitz & Liebler (2000): <a class=\"anchor\" id=\"repressilator\"></a>\n",
    "\n",
    "<br>\n",
    "Repressilator circuit from <a href=\"http://www.elowitz.caltech.edu/publications/Repressilator.pdf\">Elowitz & Liebler (2000):</a>\n",
    "<div align='center'><img src=\"https://raw.githubusercontent.com/vporubsky/tellurium-libroadrunner-tutorial/master/repressilator.png\" width=\"50%\" style=\"padding: 20px\"></div>\n"
   ]
  },
  {
   "cell_type": "markdown",
   "metadata": {},
   "source": [
    "#  Repressilator model by Elowitz & Liebler (2000):\n",
    "\n",
    "<table><tr>\n",
    "   <td> <img src=\"https://raw.githubusercontent.com/vporubsky/tellurium-libroadrunner-tutorial/master/repressilator_2.PNG\" style=\"width: 300px;\"/> </td>\n",
    "   <td> <img src=\"https://raw.githubusercontent.com/vporubsky/tellurium-libroadrunner-tutorial/master/repressilator_3.PNG\" style=\"width: 1000px;\"/> </td>\n",
    "</tr></table>"
   ]
  },
  {
   "cell_type": "markdown",
   "metadata": {},
   "source": [
    "#  Repressilator model by Elowitz & Liebler (2000):\n",
    "\n",
    "<table><tr>\n",
    "   <td> <img src=\"https://raw.githubusercontent.com/vporubsky/tellurium-libroadrunner-tutorial/master/repressilator_1.PNG\" style=\"width: 700px;\"/> </td>\n",
    "</tr></table>"
   ]
  },
  {
   "cell_type": "markdown",
   "metadata": {},
   "source": [
    "#  Repressilator model by Elowitz & Liebler (2000):\n",
    "\n",
    "<table><tr>\n",
    "   <td> <img src=\"https://raw.githubusercontent.com/vporubsky/tellurium-libroadrunner-tutorial/master/repressilator_4.PNG\" style=\"width: 700px;\"/> </td>\n",
    "</tr></table>"
   ]
  },
  {
   "cell_type": "markdown",
   "metadata": {},
   "source": [
    "# Model of respiratory oscillations in Saccharomyces cerevisae by Jana Wolf et al. (2001): <a class=\"anchor\" id=\"wolf\"></a>\n",
    "\n",
    "<div align='center'><img src=\"https://raw.githubusercontent.com/vporubsky/tellurium-libroadrunner-tutorial/master/wolf_publication.PNG\" width=\"65%\" style=\"padding: 20px\"></div>\n",
    "<br>\n",
    "<div align='center'><img src=\"https://raw.githubusercontent.com/vporubsky/tellurium-libroadrunner-tutorial/master/wolf_network.PNG\" width=\"65%\" style=\"padding: 20px\"></div>"
   ]
  },
  {
   "cell_type": "markdown",
   "metadata": {},
   "source": [
    "# Negative feedback and ultrasensitivity effects in Kholodenko (2000): <a class=\"anchor\" id=\"kholodenko\"></a>\n",
    "\n",
    "<table><tr>\n",
    "   <td> <img src=\"https://raw.githubusercontent.com/vporubsky/tellurium-libroadrunner-tutorial/master/kholodenko_1.PNG\" style=\"width: 500px;\"/> </td>\n",
    "   <td> <img src=\"https://raw.githubusercontent.com/vporubsky/tellurium-libroadrunner-tutorial/master/kholodenko_2.PNG\" style=\"width: 500px;\"/> </td>\n",
    "</tr></table>\n",
    "\n"
   ]
  },
  {
   "cell_type": "markdown",
   "metadata": {
    "slideshow": {
     "slide_type": "slide"
    }
   },
   "source": [
    "# What is data aggregation? <a class=\"anchor\" id=\"data-aggregation\"></a>\n",
    "\n",
    "The collection of data from multiple experiments, scientific papers, and online data sources. Typically you will need to curate your aggregated data to ensure the quality of measurements are suffiencient to include in your model.\n"
   ]
  },
  {
   "cell_type": "markdown",
   "metadata": {
    "slideshow": {
     "slide_type": "slide"
    }
   },
   "source": [
    "# What databases are useful for biochemical network modeling? <a class=\"anchor\" id=\"databases\"></a>\n",
    "\n",
    "\n",
    "<ul>\n",
    "  <li>SABIO-RK: biochemical reaction kinetics database</li>\n",
    "     <ul class=\"square\">\n",
    "      <li>Describes chemical reactions and kinetics</li>\n",
    "      <li>Contains information about participants and modifiers in reactions</li>\n",
    "      <li>Metabolic and signaling network reactions</li>\n",
    "     </ul>\n",
    "  <li>BRENDA: the comprehensive enzyme information system</li>\n",
    "     <ul class=\"square\">\n",
    "      <li>Enzyme information classified by the biochemical reaction it catalyzes</li>\n",
    "      <li>Kinetic information about substrates and products is available</li> \n",
    "     </ul>\n",
    "  <li>ChEBI: dictionary of \"small\" chemical compounds</li>\n",
    "  <li>KEGG: collection of pathway/genome/diesease/drug databases</li>\n",
    "  <li>BioCYC: collection of pathway/genome databases</li>\n",
    "       <ul class=\"square\">\n",
    "      <li>Search for genes, proteins, metabolites or pathways, and the occurence of your term will be located in multiple databases</li> \n",
    "     </ul>\n",
    "  <li>BioModel: repository of mathematical models of biological systems</li>\n",
    "      <ul class=\"square\">\n",
    "      <li> *Will be covered in more detail later in the course</li> \n",
    "     </ul>\n",
    "</ul>\n",
    "\n",
    "<a href=\"https://www.sciencedirect.com/science/article/abs/pii/S0958166917301428?via%3Dihub\">Appendix A of Goldberg et al. (2018)</a> provides a useful and more comprehensive list of data sources containing intracellular biochemical data. \n"
   ]
  },
  {
   "cell_type": "markdown",
   "metadata": {
    "slideshow": {
     "slide_type": "slide"
    }
   },
   "source": [
    "# What is metadata and how much should we collect? <a class=\"anchor\" id=\"metadata\"></a>\n",
    "\n",
    "<ul>\n",
    "  <li>Metadata: data that describes biochemical data</li>\n",
    "  <li>Collect information about:</li>\n",
    "     <ul class=\"square\">\n",
    "      <li>Units</li>\n",
    "      <li>Estimates of measurement accuracy</li>\n",
    "      <li>Annotations</li>\n",
    "      <li>Ontology terms defining the annotations</li>\n",
    "      <li>etc.</li>\n",
    "     </ul>\n",
    "  <li>Collect provenance data:</li>\n",
    "     <ul class=\"square\">\n",
    "      <li>Lab which generated the data</li>\n",
    "      <li>Experimental conditions</li>\n",
    "      <li>Protocol used to generate the data</li>\n",
    "      <li>Paper which reported the measurement</li>\n",
    "      <li>etc.</li>\n",
    "</ul>"
   ]
  },
  {
   "cell_type": "markdown",
   "metadata": {
    "pycharm": {
     "name": "#%% md\n"
    }
   },
   "source": [
    "# Packages and constants <a class=\"anchor\" id=\"packages-constants\"></a>"
   ]
  },
  {
   "cell_type": "code",
   "execution_count": 5,
   "metadata": {
    "pycharm": {
     "name": "#%%\n"
    }
   },
   "outputs": [
    {
     "name": "stdout",
     "output_type": "stream",
     "text": [
      "\u001b[33mWARNING: You are using pip version 21.0.1; however, version 21.1.3 is available.\n",
      "You should consider upgrading via the '/Users/veronica_porubsky/venv/bin/python -m pip install --upgrade pip' command.\u001b[0m\n",
      "\u001b[33mWARNING: You are using pip version 21.0.1; however, version 21.1.3 is available.\n",
      "You should consider upgrading via the '/Users/veronica_porubsky/venv/bin/python -m pip install --upgrade pip' command.\u001b[0m\n"
     ]
    }
   ],
   "source": [
    "!pip install tellurium -q\n",
    "!pip install bioservices -q\n",
    "from bioservices import *"
   ]
  },
  {
   "cell_type": "markdown",
   "metadata": {
    "pycharm": {
     "name": "#%% md\n"
    }
   },
   "source": [
    "# Importing data with KEGG and bioservices <a class=\"anchor\" id=\"import-with-KEGG\"></a>"
   ]
  },
  {
   "cell_type": "code",
   "execution_count": 6,
   "metadata": {
    "pycharm": {
     "name": "#%%\n"
    }
   },
   "outputs": [
    {
     "name": "stdout",
     "output_type": "stream",
     "text": [
      "['tetR']\n",
      "TetR/AcrR family transcriptional regulator, tetracycline repressor protein\n"
     ]
    }
   ],
   "source": [
    "# Select database\n",
    "database = KEGG()\n",
    "\n",
    "# Retrieve a KEGG entry\n",
    "tetR_query = database.get(\"K18476\")\n",
    "\n",
    "# Build a dictionary to parse query\n",
    "tetR_dict = database.parse(tetR_query)\n",
    "\n",
    "# Show information about the query\n",
    "print(tetR_dict['NAME'])\n",
    "print(tetR_dict['DEFINITION'])\n"
   ]
  },
  {
   "cell_type": "markdown",
   "metadata": {},
   "source": [
    "# Aggregating data with ChEBI <a class=\"anchor\" id=\"aggregation-with-chebi\"></a>"
   ]
  },
  {
   "cell_type": "code",
   "execution_count": 7,
   "metadata": {
    "pycharm": {
     "name": "#%%\n"
    }
   },
   "outputs": [
    {
     "name": "stdout",
     "output_type": "stream",
     "text": [
      "A ketohexose bisphosphate that is D-fructose substituted by phosphate groups at positions 1 and 6. It is an intermediate in the glycolysis metabolic pathway.\n"
     ]
    }
   ],
   "source": [
    "# Store annotation information\n",
    "# Select database\n",
    "database = ChEBI()\n",
    "\n",
    "# Retrieve a ChEBI entry for D-fructose 1,6-bisphosphate\n",
    "query = database.getCompleteEntity(\"CHEBI:78682\")\n",
    "\n",
    "print(query.definition)\n"
   ]
  },
  {
   "cell_type": "markdown",
   "metadata": {
    "slideshow": {
     "slide_type": "slide"
    }
   },
   "source": [
    "# Exercises <a class=\"anchor\" id=\"exercises\"></a>"
   ]
  },
  {
   "cell_type": "markdown",
   "metadata": {
    "slideshow": {
     "slide_type": "slide"
    }
   },
   "source": [
    "## Exercise 1\n",
    "\n",
    "Visit SABIO-RK and find a reaction involving tau-protein. What tissue and organism is the provided reaction relevant to, according to the results?\n",
    "\n",
    "**Solution:** Tissue: brain, organisms: Homo sapiens and Rattus norvegicus \n",
    "\n",
    "What other metadata are available for the reaction\n",
    "\n",
    "**Solution:**\n"
   ]
  },
  {
   "cell_type": "markdown",
   "metadata": {
    "slideshow": {
     "slide_type": "slide"
    }
   },
   "source": [
    "## Exercise 2\n",
    "\n",
    "Visit BRENDA and search for the enzyme lactase. What reaction does this enzyme catalyze? Record the reactants and products in the reaction.\n",
    "\n",
    "\n",
    "**Solution:**\n",
    "\n",
    "What other databases does BRENDA link to which could help you build a pathway model containing the specified reaction?\n",
    "\n",
    "\n",
    "**Solution:**"
   ]
  },
  {
   "cell_type": "markdown",
   "metadata": {
    "slideshow": {
     "slide_type": "slide"
    }
   },
   "source": [
    "## Exercise 3\n",
    "\n",
    "Craving a coffee? Look up \"caffeine\" in ChEBI. Getting late in your region of the world? Try \"melatonin\" instead.\n",
    "\n",
    "**Solution:**\n",
    "\n",
    "What is the ChEBI ID for your small molecule? What organisms was the metabolite detected in or isolated from according to the ChEBI data?\n",
    "\n",
    "**Solution:**\n"
   ]
  },
  {
   "cell_type": "markdown",
   "metadata": {},
   "source": [
    "## Exercise 4\n",
    "\n",
    "Explore this <a href=\"https://biocyc.org/overviewsWeb/celOv.shtml?orgid=ECOLI\"> full metabolic map on BioCYC. </a> "
   ]
  },
  {
   "cell_type": "markdown",
   "metadata": {
    "slideshow": {
     "slide_type": "slide"
    }
   },
   "source": [
    "## Exercise 5\n",
    "\n",
    "Programmatically access the ChEBI entry for glucose and print the molecular formula information."
   ]
  },
  {
   "cell_type": "code",
   "execution_count": 8,
   "metadata": {
    "pycharm": {
     "name": "#%%\n"
    }
   },
   "outputs": [
    {
     "name": "stdout",
     "output_type": "stream",
     "text": [
      "[(DataItem){\n",
      "   data = \"C6H12O6\"\n",
      "   source = \"KEGG COMPOUND\"\n",
      " }]\n"
     ]
    }
   ],
   "source": [
    "# Exercise 5 Solution:\n",
    "\n",
    "# Select database\n",
    "database = ChEBI()\n",
    "\n",
    "# Retrieve a ChEBI entry for D-fructose 1,6-bisphosphate\n",
    "query = database.getCompleteEntity(\"CHEBI:17234\")\n",
    "\n",
    "print(query.Formulae)"
   ]
  },
  {
   "cell_type": "markdown",
   "metadata": {
    "slideshow": {
     "slide_type": "slide"
    }
   },
   "source": [
    "# Acknowledgements\n",
    "<br>\n",
    "<div align='left'><img src=\"https://raw.githubusercontent.com/vporubsky/tellurium-libroadrunner-tutorial/master/acknowledgments.png\" width=\"80%\"></div>"
   ]
  },
  {
   "cell_type": "markdown",
   "metadata": {
    "slideshow": {
     "slide_type": "slide"
    }
   },
   "source": [
    "<br>\n",
    "<html>\n",
    "   <head>\n",
    "      <title>Bibliography</title>\n",
    "   </head>\n",
    "   <body>\n",
    "      <h1>Bibliography</h1>\n",
    "      <ol>\n",
    "         <li>\n",
    "            <p>K. Choi et al., <cite>Tellurium: An extensible python-based modeling environment for systems and synthetic biology</cite>, Biosystems, vol. 171, pp. 74–79, Sep. 2018.</p>\n",
    "         </li>\n",
    "         <li>\n",
    "            <p>E. T. Somogyi et al., <cite>libRoadRunner: a high performance SBML simulation and analysis library.,</cite>, Bioinformatics, vol. 31, no. 20, pp. 3315–21, Oct. 2015.</p>         \n",
    "          <li>\n",
    "            <p>L. P. Smith, F. T. Bergmann, D. Chandran, and H. M. Sauro, <cite>Antimony: a modular model definition language</cite>, Bioinformatics, vol. 25, no. 18, pp. 2452–2454, Sep. 2009.</p>\n",
    "         </li>\n",
    "         <li>\n",
    "            <p>K. Choi, L. P. Smith, J. K. Medley, and H. M. Sauro, <cite>phraSED-ML: a paraphrased, human-readable adaptation of SED-ML</cite>, J. Bioinform. Comput. Biol., vol. 14, no. 06, Dec. 2016.</p>\n",
    "         </li>         \n",
    "         <li>\n",
    "            <p> B.N. Kholodenko, O.V. Demin, G. Moehren, J.B. Hoek, <cite>Quantification of short term signaling by the epidermal growth factor receptor.</cite>, J Biol Chem., vol. 274, no. 42, Oct. 1999.</p>\n",
    "         </li>\n",
    "      </ol>\n",
    "   </body>\n",
    "</html>"
   ]
  }
 ],
 "metadata": {
  "celltoolbar": "Slideshow",
  "kernelspec": {
   "display_name": "Python 3",
   "language": "python",
   "name": "python3"
  },
  "language_info": {
   "codemirror_mode": {
    "name": "ipython",
    "version": 3
   },
   "file_extension": ".py",
   "mimetype": "text/x-python",
   "name": "python",
   "nbconvert_exporter": "python",
   "pygments_lexer": "ipython3",
   "version": "3.8.2"
  },
  "rise": {
   "scroll": true
  }
 },
 "nbformat": 4,
 "nbformat_minor": 2
}
